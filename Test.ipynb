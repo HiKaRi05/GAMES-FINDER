{
 "cells": [
  {
   "cell_type": "code",
   "execution_count": 475,
   "outputs": [],
   "source": [
    "from  sklearn import tree\n",
    "from sklearn.neighbors import KNeighborsClassifier\n",
    "\n",
    "from sklearn.model_selection import train_test_split"
   ],
   "metadata": {
    "collapsed": false
   }
  },
  {
   "cell_type": "code",
   "execution_count": 476,
   "outputs": [
    {
     "data": {
      "text/plain": "Index(['ประทับเวลา', 'ประเภทเกมส์ที่สนใจ', 'รับสถาณการณ์กดดันได้ดี',\n       'ช่างสังเกต', 'ชอบทดลอง', 'รักอิสระ', 'นิยมธรรมชาติอนุรักษ์',\n       'ละเอียดรอบคอบ', 'มีความสนใจในความรู้รอบตัว', 'เจ้าคนนายคน',\n       'มีระเบียบวินัย', 'นิสัยไม่ยอมคน', 'คนที่ทันคน', 'ชอบลองผิดลองถูก',\n       'ชอบความท้าทาย', 'รักสนุก', 'รักการอ่าน', 'มีความเป็นตัวของตัวเองสูง',\n       'ขี้ระแวง', 'เข้าสังคมเก่ง', 'นำประสบการณ์มาปรับใช้',\n       'มีความหนักแน่นมั่นคง', 'เป็นคนสองบุคลิก', 'รักสวยรักงาม',\n       'ไม่ชอบเที่ยวโลดโผน', 'ไม่ค่อยกล้าแสดงออก', 'ใจกว้าง', 'ความจำดี',\n       'ขี้เกรงใจคนอื่น', 'มองโลกในหลายแง่มุม', 'เป็นคนโรแมนติก'],\n      dtype='object')"
     },
     "execution_count": 476,
     "metadata": {},
     "output_type": "execute_result"
    }
   ],
   "source": [
    "\n",
    "\n",
    "import pandas as pd\n",
    "import matplotlib.pyplot as plt\n",
    "import seaborn as sns\n",
    "df= pd.read_csv('Trandata.csv')\n",
    "\n",
    "df.columns"
   ],
   "metadata": {
    "collapsed": false
   }
  },
  {
   "cell_type": "code",
   "execution_count": 477,
   "outputs": [],
   "source": [
    "cols = ['รับสถาณการณ์กดดันได้ดี',\n",
    "       'ช่างสังเกต', 'ชอบทดลอง', 'รักอิสระ',\n",
    "       'ละเอียดรอบคอบ', 'มีความสนใจในความรู้รอบตัว',\n",
    "       'มีระเบียบวินัย', 'คนที่ทันคน', 'ชอบลองผิดลองถูก',\n",
    "       'ชอบความท้าทาย', 'รักสนุก', 'รักการอ่าน', 'มีความเป็นตัวของตัวเองสูง',\n",
    "       'ขี้ระแวง', 'เข้าสังคมเก่ง',\n",
    "       'มีความหนักแน่นมั่นคง',\n",
    "       'ไม่ชอบเที่ยวโลดโผน', 'ไม่ค่อยกล้าแสดงออก', 'ใจกว้าง',\n",
    "       'ขี้เกรงใจคนอื่น']"
   ],
   "metadata": {
    "collapsed": false
   }
  },
  {
   "cell_type": "code",
   "execution_count": 478,
   "outputs": [],
   "source": [
    "df['รับสถาณการณ์กดดันได้ดี'] = df.รับสถาณการณ์กดดันได้ดี.replace(['ใช่', 'ไม่ใช่'], [1, 0])\n",
    "df['ช่างสังเกต'] = df.ช่างสังเกต.replace(['ใช่', 'ไม่ใช่'], [1, 0])\n",
    "df['ชอบทดลอง'] = df.ชอบทดลอง.replace(['ใช่', 'ไม่ใช่'], [1, 0])\n",
    "df['รักอิสระ'] = df.รักอิสระ.replace(['ใช่', 'ไม่ใช่'], [1, 0])\n",
    "df['นิยมธรรมชาติอนุรักษ์'] = df.นิยมธรรมชาติอนุรักษ์.replace(['ใช่', 'ไม่ใช่'], [1, 0])\n",
    "df['ละเอียดรอบคอบ'] = df.ละเอียดรอบคอบ.replace(['ใช่', 'ไม่ใช่'], [1, 0])\n",
    "df['มีความสนใจในความรู้รอบตัว'] = df.มีความสนใจในความรู้รอบตัว.replace(['ใช่', 'ไม่ใช่'], [1, 0])\n",
    "df['เจ้าคนนายคน'] = df.เจ้าคนนายคน.replace(['ใช่', 'ไม่ใช่'], [1, 0])\n",
    "df['มีระเบียบวินัย'] = df.มีระเบียบวินัย.replace(['ใช่', 'ไม่ใช่'], [1, 0])\n",
    "df['นิสัยไม่ยอมคน'] = df.นิสัยไม่ยอมคน.replace(['ใช่', 'ไม่ใช่'], [1, 0])\n",
    "df['คนที่ทันคน'] = df.คนที่ทันคน.replace(['ใช่', 'ไม่ใช่'], [1, 0])\n",
    "df['ชอบลองผิดลองถูก'] = df.ชอบลองผิดลองถูก.replace(['ใช่', 'ไม่ใช่'], [1, 0])\n",
    "df['ชอบความท้าทาย'] = df.ชอบความท้าทาย.replace(['ใช่', 'ไม่ใช่'], [1, 0])\n",
    "df['รักสนุก'] = df.รักสนุก.replace(['ใช่', 'ไม่ใช่'], [1, 0])\n",
    "df['รักการอ่าน'] = df.รักการอ่าน.replace(['ใช่', 'ไม่ใช่'], [1, 0])\n",
    "df['มีความเป็นตัวของตัวเองสูง'] = df.มีความเป็นตัวของตัวเองสูง.replace(['ใช่', 'ไม่ใช่'], [1, 0])\n",
    "df['ขี้ระแวง'] = df.ขี้ระแวง.replace(['ใช่', 'ไม่ใช่'], [1, 0])\n",
    "df['เข้าสังคมเก่ง'] = df.เข้าสังคมเก่ง.replace(['ใช่', 'ไม่ใช่'], [1, 0])\n",
    "df['มีความหนักแน่นมั่นคง'] = df.มีความหนักแน่นมั่นคง.replace(['ใช่', 'ไม่ใช่'], [1, 0])\n",
    "df['เป็นคนสองบุคลิก'] = df.เป็นคนสองบุคลิก.replace(['ใช่', 'ไม่ใช่'], [1, 0])\n",
    "df['รักสวยรักงาม'] = df.รักสวยรักงาม.replace(['ใช่', 'ไม่ใช่'], [1, 0])\n",
    "df['ไม่ชอบเที่ยวโลดโผน'] = df.ไม่ชอบเที่ยวโลดโผน.replace(['ใช่', 'ไม่ใช่'], [1, 0])\n",
    "df['ไม่ค่อยกล้าแสดงออก'] = df.ไม่ค่อยกล้าแสดงออก.replace(['ใช่', 'ไม่ใช่'], [1, 0])\n",
    "df['ใจกว้าง'] = df.ใจกว้าง.replace(['ใช่', 'ไม่ใช่'], [1, 0])\n",
    "df['ขี้เกรงใจคนอื่น'] = df.ขี้เกรงใจคนอื่น.replace(['ใช่', 'ไม่ใช่'], [1, 0])\n",
    "df['มองโลกในหลายแง่มุม'] = df.มองโลกในหลายแง่มุม.replace(['ใช่', 'ไม่ใช่'], [1, 0])\n",
    "df['เป็นคนโรแมนติก'] = df.เป็นคนโรแมนติก.replace(['ใช่', 'ไม่ใช่'], [1, 0])\n"
   ],
   "metadata": {
    "collapsed": false
   }
  },
  {
   "cell_type": "code",
   "execution_count": 479,
   "outputs": [
    {
     "data": {
      "text/plain": "       รับสถาณการณ์กดดันได้ดี  ช่างสังเกต    ชอบทดลอง    รักอิสระ  \\\ncount              200.000000  200.000000  200.000000  200.000000   \nmean                 0.625000    0.785000    0.805000    0.935000   \nstd                  0.485338    0.411853    0.397195    0.247144   \nmin                  0.000000    0.000000    0.000000    0.000000   \n25%                  0.000000    1.000000    1.000000    1.000000   \n50%                  1.000000    1.000000    1.000000    1.000000   \n75%                  1.000000    1.000000    1.000000    1.000000   \nmax                  1.000000    1.000000    1.000000    1.000000   \n\n       นิยมธรรมชาติอนุรักษ์  ละเอียดรอบคอบ  มีความสนใจในความรู้รอบตัว  \\\ncount            200.000000     200.000000                 200.000000   \nmean               0.660000       0.570000                   0.805000   \nstd                0.474898       0.496318                   0.397195   \nmin                0.000000       0.000000                   0.000000   \n25%                0.000000       0.000000                   1.000000   \n50%                1.000000       1.000000                   1.000000   \n75%                1.000000       1.000000                   1.000000   \nmax                1.000000       1.000000                   1.000000   \n\n       เจ้าคนนายคน  มีระเบียบวินัย  นิสัยไม่ยอมคน  ...  เข้าสังคมเก่ง  \\\ncount   200.000000      200.000000     200.000000  ...     200.000000   \nmean      0.335000        0.650000       0.550000  ...       0.475000   \nstd       0.473175        0.478167       0.498742  ...       0.500628   \nmin       0.000000        0.000000       0.000000  ...       0.000000   \n25%       0.000000        0.000000       0.000000  ...       0.000000   \n50%       0.000000        1.000000       1.000000  ...       0.000000   \n75%       1.000000        1.000000       1.000000  ...       1.000000   \nmax       1.000000        1.000000       1.000000  ...       1.000000   \n\n       มีความหนักแน่นมั่นคง  เป็นคนสองบุคลิก  รักสวยรักงาม  \\\ncount            200.000000       200.000000    200.000000   \nmean               0.695000         0.530000      0.555000   \nstd                0.461563         0.500352      0.498213   \nmin                0.000000         0.000000      0.000000   \n25%                0.000000         0.000000      0.000000   \n50%                1.000000         1.000000      1.000000   \n75%                1.000000         1.000000      1.000000   \nmax                1.000000         1.000000      1.000000   \n\n       ไม่ชอบเที่ยวโลดโผน  ไม่ค่อยกล้าแสดงออก     ใจกว้าง  ขี้เกรงใจคนอื่น  \\\ncount          200.000000          200.000000  200.000000         200.0000   \nmean             0.600000            0.690000    0.835000           0.9100   \nstd              0.491127            0.463654    0.372112           0.2869   \nmin              0.000000            0.000000    0.000000           0.0000   \n25%              0.000000            0.000000    1.000000           1.0000   \n50%              1.000000            1.000000    1.000000           1.0000   \n75%              1.000000            1.000000    1.000000           1.0000   \nmax              1.000000            1.000000    1.000000           1.0000   \n\n       มองโลกในหลายแง่มุม  เป็นคนโรแมนติก  \ncount            200.0000      200.000000  \nmean               0.9100        0.520000  \nstd                0.2869        0.500854  \nmin                0.0000        0.000000  \n25%                1.0000        0.000000  \n50%                1.0000        1.000000  \n75%                1.0000        1.000000  \nmax                1.0000        1.000000  \n\n[8 rows x 27 columns]",
      "text/html": "<div>\n<style scoped>\n    .dataframe tbody tr th:only-of-type {\n        vertical-align: middle;\n    }\n\n    .dataframe tbody tr th {\n        vertical-align: top;\n    }\n\n    .dataframe thead th {\n        text-align: right;\n    }\n</style>\n<table border=\"1\" class=\"dataframe\">\n  <thead>\n    <tr style=\"text-align: right;\">\n      <th></th>\n      <th>รับสถาณการณ์กดดันได้ดี</th>\n      <th>ช่างสังเกต</th>\n      <th>ชอบทดลอง</th>\n      <th>รักอิสระ</th>\n      <th>นิยมธรรมชาติอนุรักษ์</th>\n      <th>ละเอียดรอบคอบ</th>\n      <th>มีความสนใจในความรู้รอบตัว</th>\n      <th>เจ้าคนนายคน</th>\n      <th>มีระเบียบวินัย</th>\n      <th>นิสัยไม่ยอมคน</th>\n      <th>...</th>\n      <th>เข้าสังคมเก่ง</th>\n      <th>มีความหนักแน่นมั่นคง</th>\n      <th>เป็นคนสองบุคลิก</th>\n      <th>รักสวยรักงาม</th>\n      <th>ไม่ชอบเที่ยวโลดโผน</th>\n      <th>ไม่ค่อยกล้าแสดงออก</th>\n      <th>ใจกว้าง</th>\n      <th>ขี้เกรงใจคนอื่น</th>\n      <th>มองโลกในหลายแง่มุม</th>\n      <th>เป็นคนโรแมนติก</th>\n    </tr>\n  </thead>\n  <tbody>\n    <tr>\n      <th>count</th>\n      <td>200.000000</td>\n      <td>200.000000</td>\n      <td>200.000000</td>\n      <td>200.000000</td>\n      <td>200.000000</td>\n      <td>200.000000</td>\n      <td>200.000000</td>\n      <td>200.000000</td>\n      <td>200.000000</td>\n      <td>200.000000</td>\n      <td>...</td>\n      <td>200.000000</td>\n      <td>200.000000</td>\n      <td>200.000000</td>\n      <td>200.000000</td>\n      <td>200.000000</td>\n      <td>200.000000</td>\n      <td>200.000000</td>\n      <td>200.0000</td>\n      <td>200.0000</td>\n      <td>200.000000</td>\n    </tr>\n    <tr>\n      <th>mean</th>\n      <td>0.625000</td>\n      <td>0.785000</td>\n      <td>0.805000</td>\n      <td>0.935000</td>\n      <td>0.660000</td>\n      <td>0.570000</td>\n      <td>0.805000</td>\n      <td>0.335000</td>\n      <td>0.650000</td>\n      <td>0.550000</td>\n      <td>...</td>\n      <td>0.475000</td>\n      <td>0.695000</td>\n      <td>0.530000</td>\n      <td>0.555000</td>\n      <td>0.600000</td>\n      <td>0.690000</td>\n      <td>0.835000</td>\n      <td>0.9100</td>\n      <td>0.9100</td>\n      <td>0.520000</td>\n    </tr>\n    <tr>\n      <th>std</th>\n      <td>0.485338</td>\n      <td>0.411853</td>\n      <td>0.397195</td>\n      <td>0.247144</td>\n      <td>0.474898</td>\n      <td>0.496318</td>\n      <td>0.397195</td>\n      <td>0.473175</td>\n      <td>0.478167</td>\n      <td>0.498742</td>\n      <td>...</td>\n      <td>0.500628</td>\n      <td>0.461563</td>\n      <td>0.500352</td>\n      <td>0.498213</td>\n      <td>0.491127</td>\n      <td>0.463654</td>\n      <td>0.372112</td>\n      <td>0.2869</td>\n      <td>0.2869</td>\n      <td>0.500854</td>\n    </tr>\n    <tr>\n      <th>min</th>\n      <td>0.000000</td>\n      <td>0.000000</td>\n      <td>0.000000</td>\n      <td>0.000000</td>\n      <td>0.000000</td>\n      <td>0.000000</td>\n      <td>0.000000</td>\n      <td>0.000000</td>\n      <td>0.000000</td>\n      <td>0.000000</td>\n      <td>...</td>\n      <td>0.000000</td>\n      <td>0.000000</td>\n      <td>0.000000</td>\n      <td>0.000000</td>\n      <td>0.000000</td>\n      <td>0.000000</td>\n      <td>0.000000</td>\n      <td>0.0000</td>\n      <td>0.0000</td>\n      <td>0.000000</td>\n    </tr>\n    <tr>\n      <th>25%</th>\n      <td>0.000000</td>\n      <td>1.000000</td>\n      <td>1.000000</td>\n      <td>1.000000</td>\n      <td>0.000000</td>\n      <td>0.000000</td>\n      <td>1.000000</td>\n      <td>0.000000</td>\n      <td>0.000000</td>\n      <td>0.000000</td>\n      <td>...</td>\n      <td>0.000000</td>\n      <td>0.000000</td>\n      <td>0.000000</td>\n      <td>0.000000</td>\n      <td>0.000000</td>\n      <td>0.000000</td>\n      <td>1.000000</td>\n      <td>1.0000</td>\n      <td>1.0000</td>\n      <td>0.000000</td>\n    </tr>\n    <tr>\n      <th>50%</th>\n      <td>1.000000</td>\n      <td>1.000000</td>\n      <td>1.000000</td>\n      <td>1.000000</td>\n      <td>1.000000</td>\n      <td>1.000000</td>\n      <td>1.000000</td>\n      <td>0.000000</td>\n      <td>1.000000</td>\n      <td>1.000000</td>\n      <td>...</td>\n      <td>0.000000</td>\n      <td>1.000000</td>\n      <td>1.000000</td>\n      <td>1.000000</td>\n      <td>1.000000</td>\n      <td>1.000000</td>\n      <td>1.000000</td>\n      <td>1.0000</td>\n      <td>1.0000</td>\n      <td>1.000000</td>\n    </tr>\n    <tr>\n      <th>75%</th>\n      <td>1.000000</td>\n      <td>1.000000</td>\n      <td>1.000000</td>\n      <td>1.000000</td>\n      <td>1.000000</td>\n      <td>1.000000</td>\n      <td>1.000000</td>\n      <td>1.000000</td>\n      <td>1.000000</td>\n      <td>1.000000</td>\n      <td>...</td>\n      <td>1.000000</td>\n      <td>1.000000</td>\n      <td>1.000000</td>\n      <td>1.000000</td>\n      <td>1.000000</td>\n      <td>1.000000</td>\n      <td>1.000000</td>\n      <td>1.0000</td>\n      <td>1.0000</td>\n      <td>1.000000</td>\n    </tr>\n    <tr>\n      <th>max</th>\n      <td>1.000000</td>\n      <td>1.000000</td>\n      <td>1.000000</td>\n      <td>1.000000</td>\n      <td>1.000000</td>\n      <td>1.000000</td>\n      <td>1.000000</td>\n      <td>1.000000</td>\n      <td>1.000000</td>\n      <td>1.000000</td>\n      <td>...</td>\n      <td>1.000000</td>\n      <td>1.000000</td>\n      <td>1.000000</td>\n      <td>1.000000</td>\n      <td>1.000000</td>\n      <td>1.000000</td>\n      <td>1.000000</td>\n      <td>1.0000</td>\n      <td>1.0000</td>\n      <td>1.000000</td>\n    </tr>\n  </tbody>\n</table>\n<p>8 rows × 27 columns</p>\n</div>"
     },
     "execution_count": 479,
     "metadata": {},
     "output_type": "execute_result"
    }
   ],
   "source": [
    "df.describe()"
   ],
   "metadata": {
    "collapsed": false
   }
  },
  {
   "cell_type": "code",
   "execution_count": 480,
   "outputs": [
    {
     "data": {
      "text/plain": "     รับสถาณการณ์กดดันได้ดี  ช่างสังเกต  ชอบทดลอง  รักอิสระ  ละเอียดรอบคอบ  \\\n0                         0           1         1         1              1   \n1                         1           1         1         1              1   \n2                         1           0         1         1              0   \n3                         1           1         1         1              1   \n4                         0           0         1         1              1   \n..                      ...         ...       ...       ...            ...   \n195                       0           0         0         1              1   \n196                       0           1         1         1              0   \n197                       1           1         1         1              1   \n198                       1           1         0         0              0   \n199                       0           0         1         0              0   \n\n     มีความสนใจในความรู้รอบตัว  มีระเบียบวินัย  คนที่ทันคน  ชอบลองผิดลองถูก  \\\n0                            1               1           1                1   \n1                            1               1           1                1   \n2                            1               1           1                1   \n3                            1               0           0                1   \n4                            1               1           1                1   \n..                         ...             ...         ...              ...   \n195                          1               1           1                1   \n196                          1               0           0                1   \n197                          1               1           1                1   \n198                          0               0           0                0   \n199                          1               0           0                1   \n\n     ชอบความท้าทาย  รักสนุก  รักการอ่าน  มีความเป็นตัวของตัวเองสูง  ขี้ระแวง  \\\n0                1        1           1                          1         0   \n1                1        1           1                          1         1   \n2                1        0           1                          1         1   \n3                1        0           0                          1         1   \n4                1        0           0                          1         0   \n..             ...      ...         ...                        ...       ...   \n195              1        1           1                          1         1   \n196              0        1           0                          1         1   \n197              1        1           1                          1         1   \n198              1        0           0                          0         0   \n199              1        0           0                          0         0   \n\n     เข้าสังคมเก่ง  มีความหนักแน่นมั่นคง  ไม่ชอบเที่ยวโลดโผน  \\\n0                1                     1                   1   \n1                0                     1                   0   \n2                0                     0                   0   \n3                0                     1                   1   \n4                0                     1                   0   \n..             ...                   ...                 ...   \n195              1                     1                   1   \n196              0                     1                   1   \n197              1                     1                   0   \n198              0                     1                   0   \n199              0                     0                   0   \n\n     ไม่ค่อยกล้าแสดงออก  ใจกว้าง  ขี้เกรงใจคนอื่น  \n0                     1        1                1  \n1                     1        1                1  \n2                     0        1                1  \n3                     1        1                1  \n4                     0        1                1  \n..                  ...      ...              ...  \n195                   1        1                1  \n196                   1        1                1  \n197                   0        1                1  \n198                   1        0                0  \n199                   0        0                0  \n\n[200 rows x 20 columns]",
      "text/html": "<div>\n<style scoped>\n    .dataframe tbody tr th:only-of-type {\n        vertical-align: middle;\n    }\n\n    .dataframe tbody tr th {\n        vertical-align: top;\n    }\n\n    .dataframe thead th {\n        text-align: right;\n    }\n</style>\n<table border=\"1\" class=\"dataframe\">\n  <thead>\n    <tr style=\"text-align: right;\">\n      <th></th>\n      <th>รับสถาณการณ์กดดันได้ดี</th>\n      <th>ช่างสังเกต</th>\n      <th>ชอบทดลอง</th>\n      <th>รักอิสระ</th>\n      <th>ละเอียดรอบคอบ</th>\n      <th>มีความสนใจในความรู้รอบตัว</th>\n      <th>มีระเบียบวินัย</th>\n      <th>คนที่ทันคน</th>\n      <th>ชอบลองผิดลองถูก</th>\n      <th>ชอบความท้าทาย</th>\n      <th>รักสนุก</th>\n      <th>รักการอ่าน</th>\n      <th>มีความเป็นตัวของตัวเองสูง</th>\n      <th>ขี้ระแวง</th>\n      <th>เข้าสังคมเก่ง</th>\n      <th>มีความหนักแน่นมั่นคง</th>\n      <th>ไม่ชอบเที่ยวโลดโผน</th>\n      <th>ไม่ค่อยกล้าแสดงออก</th>\n      <th>ใจกว้าง</th>\n      <th>ขี้เกรงใจคนอื่น</th>\n    </tr>\n  </thead>\n  <tbody>\n    <tr>\n      <th>0</th>\n      <td>0</td>\n      <td>1</td>\n      <td>1</td>\n      <td>1</td>\n      <td>1</td>\n      <td>1</td>\n      <td>1</td>\n      <td>1</td>\n      <td>1</td>\n      <td>1</td>\n      <td>1</td>\n      <td>1</td>\n      <td>1</td>\n      <td>0</td>\n      <td>1</td>\n      <td>1</td>\n      <td>1</td>\n      <td>1</td>\n      <td>1</td>\n      <td>1</td>\n    </tr>\n    <tr>\n      <th>1</th>\n      <td>1</td>\n      <td>1</td>\n      <td>1</td>\n      <td>1</td>\n      <td>1</td>\n      <td>1</td>\n      <td>1</td>\n      <td>1</td>\n      <td>1</td>\n      <td>1</td>\n      <td>1</td>\n      <td>1</td>\n      <td>1</td>\n      <td>1</td>\n      <td>0</td>\n      <td>1</td>\n      <td>0</td>\n      <td>1</td>\n      <td>1</td>\n      <td>1</td>\n    </tr>\n    <tr>\n      <th>2</th>\n      <td>1</td>\n      <td>0</td>\n      <td>1</td>\n      <td>1</td>\n      <td>0</td>\n      <td>1</td>\n      <td>1</td>\n      <td>1</td>\n      <td>1</td>\n      <td>1</td>\n      <td>0</td>\n      <td>1</td>\n      <td>1</td>\n      <td>1</td>\n      <td>0</td>\n      <td>0</td>\n      <td>0</td>\n      <td>0</td>\n      <td>1</td>\n      <td>1</td>\n    </tr>\n    <tr>\n      <th>3</th>\n      <td>1</td>\n      <td>1</td>\n      <td>1</td>\n      <td>1</td>\n      <td>1</td>\n      <td>1</td>\n      <td>0</td>\n      <td>0</td>\n      <td>1</td>\n      <td>1</td>\n      <td>0</td>\n      <td>0</td>\n      <td>1</td>\n      <td>1</td>\n      <td>0</td>\n      <td>1</td>\n      <td>1</td>\n      <td>1</td>\n      <td>1</td>\n      <td>1</td>\n    </tr>\n    <tr>\n      <th>4</th>\n      <td>0</td>\n      <td>0</td>\n      <td>1</td>\n      <td>1</td>\n      <td>1</td>\n      <td>1</td>\n      <td>1</td>\n      <td>1</td>\n      <td>1</td>\n      <td>1</td>\n      <td>0</td>\n      <td>0</td>\n      <td>1</td>\n      <td>0</td>\n      <td>0</td>\n      <td>1</td>\n      <td>0</td>\n      <td>0</td>\n      <td>1</td>\n      <td>1</td>\n    </tr>\n    <tr>\n      <th>...</th>\n      <td>...</td>\n      <td>...</td>\n      <td>...</td>\n      <td>...</td>\n      <td>...</td>\n      <td>...</td>\n      <td>...</td>\n      <td>...</td>\n      <td>...</td>\n      <td>...</td>\n      <td>...</td>\n      <td>...</td>\n      <td>...</td>\n      <td>...</td>\n      <td>...</td>\n      <td>...</td>\n      <td>...</td>\n      <td>...</td>\n      <td>...</td>\n      <td>...</td>\n    </tr>\n    <tr>\n      <th>195</th>\n      <td>0</td>\n      <td>0</td>\n      <td>0</td>\n      <td>1</td>\n      <td>1</td>\n      <td>1</td>\n      <td>1</td>\n      <td>1</td>\n      <td>1</td>\n      <td>1</td>\n      <td>1</td>\n      <td>1</td>\n      <td>1</td>\n      <td>1</td>\n      <td>1</td>\n      <td>1</td>\n      <td>1</td>\n      <td>1</td>\n      <td>1</td>\n      <td>1</td>\n    </tr>\n    <tr>\n      <th>196</th>\n      <td>0</td>\n      <td>1</td>\n      <td>1</td>\n      <td>1</td>\n      <td>0</td>\n      <td>1</td>\n      <td>0</td>\n      <td>0</td>\n      <td>1</td>\n      <td>0</td>\n      <td>1</td>\n      <td>0</td>\n      <td>1</td>\n      <td>1</td>\n      <td>0</td>\n      <td>1</td>\n      <td>1</td>\n      <td>1</td>\n      <td>1</td>\n      <td>1</td>\n    </tr>\n    <tr>\n      <th>197</th>\n      <td>1</td>\n      <td>1</td>\n      <td>1</td>\n      <td>1</td>\n      <td>1</td>\n      <td>1</td>\n      <td>1</td>\n      <td>1</td>\n      <td>1</td>\n      <td>1</td>\n      <td>1</td>\n      <td>1</td>\n      <td>1</td>\n      <td>1</td>\n      <td>1</td>\n      <td>1</td>\n      <td>0</td>\n      <td>0</td>\n      <td>1</td>\n      <td>1</td>\n    </tr>\n    <tr>\n      <th>198</th>\n      <td>1</td>\n      <td>1</td>\n      <td>0</td>\n      <td>0</td>\n      <td>0</td>\n      <td>0</td>\n      <td>0</td>\n      <td>0</td>\n      <td>0</td>\n      <td>1</td>\n      <td>0</td>\n      <td>0</td>\n      <td>0</td>\n      <td>0</td>\n      <td>0</td>\n      <td>1</td>\n      <td>0</td>\n      <td>1</td>\n      <td>0</td>\n      <td>0</td>\n    </tr>\n    <tr>\n      <th>199</th>\n      <td>0</td>\n      <td>0</td>\n      <td>1</td>\n      <td>0</td>\n      <td>0</td>\n      <td>1</td>\n      <td>0</td>\n      <td>0</td>\n      <td>1</td>\n      <td>1</td>\n      <td>0</td>\n      <td>0</td>\n      <td>0</td>\n      <td>0</td>\n      <td>0</td>\n      <td>0</td>\n      <td>0</td>\n      <td>0</td>\n      <td>0</td>\n      <td>0</td>\n    </tr>\n  </tbody>\n</table>\n<p>200 rows × 20 columns</p>\n</div>"
     },
     "execution_count": 480,
     "metadata": {},
     "output_type": "execute_result"
    }
   ],
   "source": [
    "df[cols]"
   ],
   "metadata": {
    "collapsed": false
   }
  },
  {
   "cell_type": "code",
   "execution_count": 481,
   "outputs": [],
   "source": [
    "x = df[cols]\n",
    "y= df['ประเภทเกมส์ที่สนใจ']"
   ],
   "metadata": {
    "collapsed": false
   }
  },
  {
   "cell_type": "code",
   "execution_count": 482,
   "outputs": [
    {
     "name": "stdout",
     "output_type": "stream",
     "text": [
      "รับสถาณการณ์กดดันได้ดี       180\n",
      "ช่างสังเกต                   180\n",
      "ชอบทดลอง                     180\n",
      "รักอิสระ                     180\n",
      "ละเอียดรอบคอบ                180\n",
      "มีความสนใจในความรู้รอบตัว    180\n",
      "มีระเบียบวินัย               180\n",
      "คนที่ทันคน                   180\n",
      "ชอบลองผิดลองถูก              180\n",
      "ชอบความท้าทาย                180\n",
      "รักสนุก                      180\n",
      "รักการอ่าน                   180\n",
      "มีความเป็นตัวของตัวเองสูง    180\n",
      "ขี้ระแวง                     180\n",
      "เข้าสังคมเก่ง                180\n",
      "มีความหนักแน่นมั่นคง         180\n",
      "ไม่ชอบเที่ยวโลดโผน           180\n",
      "ไม่ค่อยกล้าแสดงออก           180\n",
      "ใจกว้าง                      180\n",
      "ขี้เกรงใจคนอื่น              180\n",
      "dtype: int64\n"
     ]
    }
   ],
   "source": [
    "train_x , test_x , train_y , test_y = train_test_split(x, y, train_size= 0.9, random_state=0)\n",
    "print(train_x.count())"
   ],
   "metadata": {
    "collapsed": false
   }
  },
  {
   "cell_type": "code",
   "execution_count": 483,
   "outputs": [],
   "source": [
    "Treemodel = tree.DecisionTreeClassifier()\n",
    "KNNmodel = KNeighborsClassifier(n_neighbors=20)\n",
    "\n",
    "Treemodel = Treemodel.fit(train_x, train_y)\n",
    "KNNmodel = KNNmodel.fit(train_x, train_y)\n"
   ],
   "metadata": {
    "collapsed": false
   }
  },
  {
   "cell_type": "code",
   "execution_count": 484,
   "outputs": [
    {
     "name": "stdout",
     "output_type": "stream",
     "text": [
      "0.3 0.45\n"
     ]
    }
   ],
   "source": [
    "\n",
    "TreeScore = Treemodel.score(test_x, test_y)\n",
    "KNNScore = KNNmodel.score(test_x, test_y)\n",
    "\n",
    "print(TreeScore, KNNScore)"
   ],
   "metadata": {
    "collapsed": false
   }
  },
  {
   "cell_type": "code",
   "execution_count": 485,
   "outputs": [
    {
     "name": "stdout",
     "output_type": "stream",
     "text": [
      "['RPG' 'Fighting' 'Fighting']\n"
     ]
    },
    {
     "name": "stderr",
     "output_type": "stream",
     "text": [
      "D:\\Project\\venv\\lib\\site-packages\\sklearn\\base.py:420: UserWarning: X does not have valid feature names, but KNeighborsClassifier was fitted with feature names\n",
      "  warnings.warn(\n"
     ]
    }
   ],
   "source": [
    "print(KNNmodel.predict([[0,1,1,1,1,1,1,1,1,1,1,1,1,1,0,1,1,1,1,1\n",
    "],[1,1,1,1,1,1,1,0,1,1,1,1,1,1,1,0,1,0,1,0\n",
    "],[1,1,1,1,1,0,0,0,0,1,1,0,0,1,1,0,1,1,1,1\n",
    "]]))"
   ],
   "metadata": {
    "collapsed": false
   }
  }
 ],
 "metadata": {
  "kernelspec": {
   "display_name": "Python 3",
   "language": "python",
   "name": "python3"
  },
  "language_info": {
   "codemirror_mode": {
    "name": "ipython",
    "version": 2
   },
   "file_extension": ".py",
   "mimetype": "text/x-python",
   "name": "python",
   "nbconvert_exporter": "python",
   "pygments_lexer": "ipython2",
   "version": "2.7.6"
  }
 },
 "nbformat": 4,
 "nbformat_minor": 0
}
